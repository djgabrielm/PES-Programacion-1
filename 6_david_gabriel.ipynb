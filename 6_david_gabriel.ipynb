{
 "cells": [
  {
   "cell_type": "markdown",
   "metadata": {},
   "source": [
    "# Tarea #6\n",
    "**Programacion I**\n",
    "\n",
    "### DAVID GABRIEL"
   ]
  },
  {
   "cell_type": "markdown",
   "metadata": {},
   "source": [
    "## Ejercicio 1\n",
    "\n",
    "Ejecute el siguiente programa y explique su procedimiento y el porqué del resultado. "
   ]
  },
  {
   "cell_type": "code",
   "execution_count": null,
   "metadata": {},
   "outputs": [],
   "source": [
    "def Recusion(f):\n",
    "    f(f)\n",
    "    \n",
    "Recusion(Recusion)"
   ]
  },
  {
   "cell_type": "markdown",
   "metadata": {},
   "source": [
    "Esto se debe a que la función se llama a sí misma de manera indefinida\n",
    "ya que no tiene definido un caso base."
   ]
  },
  {
   "cell_type": "markdown",
   "metadata": {},
   "source": [
    "## Ejercicio 2\n",
    "\n",
    "Vea el siguiente vídeo: <https://www.youtube.com/watch?v=qxRW5pDT2o4>  \n",
    "\n",
    "Complete el código siguiente para encontrar el máximo común divisor dado dos números enteros. \n",
    "\n",
    "Las condiciones básicas, son:"
   ]
  },
  {
   "cell_type": "markdown",
   "metadata": {},
   "source": [
    "Para dos números $a$ y $b$, tal que $b\\leq a$:\n",
    "* $mcd(a,0) = a$\n",
    "* Si $b\\vert a$ (divida enteramente), entonces $mcd(a,b)=b$\n",
    "* En otro caso, $mcd(a,b) = mcd(b,a \\,mod \\, b)$\n",
    "\n"
   ]
  },
  {
   "cell_type": "code",
   "execution_count": 2,
   "metadata": {},
   "outputs": [],
   "source": [
    "def mcd(a,b):\n",
    "    '''Donde a >= b'''\n",
    "    if a%b==0:\n",
    "        return b\n",
    "    elif b==0:\n",
    "        return a\n",
    "    else:\n",
    "        return mcd(b,a%b)\n",
    "    "
   ]
  },
  {
   "cell_type": "code",
   "execution_count": 3,
   "metadata": {},
   "outputs": [
    {
     "data": {
      "text/plain": [
       "4"
      ]
     },
     "execution_count": 3,
     "metadata": {},
     "output_type": "execute_result"
    }
   ],
   "source": [
    "mcd(20,12)"
   ]
  },
  {
   "cell_type": "markdown",
   "metadata": {},
   "source": [
    "## Ejercicio 3\n",
    "\n",
    "Implemente un algoritmo recursivo para obtener la parte entera de la división entre dos números enteros. (Pista: Asocie con la resta)."
   ]
  },
  {
   "cell_type": "code",
   "execution_count": 1,
   "metadata": {},
   "outputs": [],
   "source": [
    "def res(a,b):\n",
    "    if b != 0:\n",
    "        if a<b:\n",
    "            return 0\n",
    "        if a==b:\n",
    "            return 1\n",
    "        else:\n",
    "            return 1+res(a-b,b)\n",
    "    else:\n",
    "        print ('Error por division entre cero')"
   ]
  },
  {
   "cell_type": "code",
   "execution_count": 3,
   "metadata": {},
   "outputs": [
    {
     "data": {
      "text/plain": [
       "17"
      ]
     },
     "execution_count": 3,
     "metadata": {},
     "output_type": "execute_result"
    }
   ],
   "source": [
    "res(2202,128)"
   ]
  },
  {
   "cell_type": "markdown",
   "metadata": {},
   "source": [
    "# Ejercicio 4\n",
    "\n",
    "En el ejemplo de clase (Coordinate), modifique el método constructor para que verifique que los argumentos $x$ y $y$ sean flotantes.  "
   ]
  },
  {
   "cell_type": "code",
   "execution_count": 222,
   "metadata": {},
   "outputs": [],
   "source": [
    "class Coordinate():\n",
    "    def __init__(self,x,y):\n",
    "        assert isinstance(x,float) and isinstance(y,float), 'x,y tienen que ser tipo \"float\"'\n",
    "        self.x = x\n",
    "        self.y = y\n",
    "            \n",
    "    #métodos:\n",
    "    def distance(self,other):\n",
    "        return ((self.x-other.x)**2+(self.y-other.y)**2)**(0.5)\n",
    "    def __str__(self):#nos dice como imprimir\n",
    "        return '<'+str(self.x)+','+str(self.y)+'>'\n",
    "    def __add__(self,other): #nos dice como se suman dos objetos\n",
    "        res_x = self.x + other.x\n",
    "        res_y = self.y + other.y\n",
    "        return Coordinate(res_x,res_y)\n",
    "    def __len__(self):\n",
    "        return 2\n",
    "    def __del__(self):\n",
    "        del self"
   ]
  },
  {
   "cell_type": "code",
   "execution_count": 223,
   "metadata": {},
   "outputs": [
    {
     "ename": "AssertionError",
     "evalue": "x,y tienen que ser tipo \"float\"",
     "output_type": "error",
     "traceback": [
      "\u001b[1;31m---------------------------------------------------------------------------\u001b[0m",
      "\u001b[1;31mAssertionError\u001b[0m                            Traceback (most recent call last)",
      "\u001b[1;32m<ipython-input-223-8359fe3a1932>\u001b[0m in \u001b[0;36m<module>\u001b[1;34m\u001b[0m\n\u001b[1;32m----> 1\u001b[1;33m \u001b[0mW\u001b[0m \u001b[1;33m=\u001b[0m \u001b[0mCoordinate\u001b[0m\u001b[1;33m(\u001b[0m\u001b[1;36m3\u001b[0m\u001b[1;33m,\u001b[0m\u001b[1;34m'b'\u001b[0m\u001b[1;33m)\u001b[0m\u001b[1;33m\u001b[0m\u001b[1;33m\u001b[0m\u001b[0m\n\u001b[0m",
      "\u001b[1;32m<ipython-input-222-459c20cf4118>\u001b[0m in \u001b[0;36m__init__\u001b[1;34m(self, x, y)\u001b[0m\n\u001b[0;32m      1\u001b[0m \u001b[1;32mclass\u001b[0m \u001b[0mCoordinate\u001b[0m\u001b[1;33m(\u001b[0m\u001b[1;33m)\u001b[0m\u001b[1;33m:\u001b[0m\u001b[1;33m\u001b[0m\u001b[1;33m\u001b[0m\u001b[0m\n\u001b[0;32m      2\u001b[0m     \u001b[1;32mdef\u001b[0m \u001b[0m__init__\u001b[0m\u001b[1;33m(\u001b[0m\u001b[0mself\u001b[0m\u001b[1;33m,\u001b[0m\u001b[0mx\u001b[0m\u001b[1;33m,\u001b[0m\u001b[0my\u001b[0m\u001b[1;33m)\u001b[0m\u001b[1;33m:\u001b[0m\u001b[1;33m\u001b[0m\u001b[1;33m\u001b[0m\u001b[0m\n\u001b[1;32m----> 3\u001b[1;33m         \u001b[1;32massert\u001b[0m \u001b[0misinstance\u001b[0m\u001b[1;33m(\u001b[0m\u001b[0mx\u001b[0m\u001b[1;33m,\u001b[0m\u001b[0mfloat\u001b[0m\u001b[1;33m)\u001b[0m \u001b[1;32mand\u001b[0m \u001b[0misinstance\u001b[0m\u001b[1;33m(\u001b[0m\u001b[0my\u001b[0m\u001b[1;33m,\u001b[0m\u001b[0mfloat\u001b[0m\u001b[1;33m)\u001b[0m\u001b[1;33m,\u001b[0m \u001b[1;34m'x,y tienen que ser tipo \"float\"'\u001b[0m\u001b[1;33m\u001b[0m\u001b[1;33m\u001b[0m\u001b[0m\n\u001b[0m\u001b[0;32m      4\u001b[0m         \u001b[0mself\u001b[0m\u001b[1;33m.\u001b[0m\u001b[0mx\u001b[0m \u001b[1;33m=\u001b[0m \u001b[0mx\u001b[0m\u001b[1;33m\u001b[0m\u001b[1;33m\u001b[0m\u001b[0m\n\u001b[0;32m      5\u001b[0m         \u001b[0mself\u001b[0m\u001b[1;33m.\u001b[0m\u001b[0my\u001b[0m \u001b[1;33m=\u001b[0m \u001b[0my\u001b[0m\u001b[1;33m\u001b[0m\u001b[1;33m\u001b[0m\u001b[0m\n",
      "\u001b[1;31mAssertionError\u001b[0m: x,y tienen que ser tipo \"float\""
     ]
    }
   ],
   "source": [
    "W = Coordinate(3,'b')"
   ]
  },
  {
   "cell_type": "code",
   "execution_count": 224,
   "metadata": {},
   "outputs": [
    {
     "ename": "NameError",
     "evalue": "name 'W' is not defined",
     "output_type": "error",
     "traceback": [
      "\u001b[1;31m---------------------------------------------------------------------------\u001b[0m",
      "\u001b[1;31mNameError\u001b[0m                                 Traceback (most recent call last)",
      "\u001b[1;32m<ipython-input-224-f9e8b9556f03>\u001b[0m in \u001b[0;36m<module>\u001b[1;34m\u001b[0m\n\u001b[1;32m----> 1\u001b[1;33m \u001b[0mW\u001b[0m\u001b[1;33m\u001b[0m\u001b[1;33m\u001b[0m\u001b[0m\n\u001b[0m",
      "\u001b[1;31mNameError\u001b[0m: name 'W' is not defined"
     ]
    }
   ],
   "source": [
    "W"
   ]
  },
  {
   "cell_type": "markdown",
   "metadata": {},
   "source": [
    "# Ejercicio 5\n",
    "\n",
    "1. Cree una clase llamada ``Persona``, que asigne una cadena a la propiedad ``nombre`` y un número entero a la propiedad ``edad``. Al imprimir el objeto, debe concatenar tanto el nombre con la edad. \n",
    "2. A la clase anterior, añada un método para sumar dos objetos de tipo ``Persona``. El resultado debe ser ambos nombres concatenados y la suma de ambas edades.\n",
    "3. Modifique la clase para que el objeto tenga otra propiedad llamada ``altura``. Cuando se solicite la longitud del objeto, muestre la altura. También debe modificar el método de impresión para que muestre la altura. ¿Qué pasa con el método de suma?\n",
    "\n"
   ]
  },
  {
   "cell_type": "code",
   "execution_count": 42,
   "metadata": {},
   "outputs": [],
   "source": [
    "class Persona():\n",
    "    def __init__(self,nombre,edad,altura):\n",
    "        self.nombre  = nombre\n",
    "        self.edad    = edad\n",
    "        self.altura  = altura\n",
    "    #métodos:\n",
    "    def distance(self,other):\n",
    "        return ((self.x-other.x)**2+(self.y-other.y)**2)**(0.5)\n",
    "    def __str__(self):#nos dice como imprimir\n",
    "        return self.nombre+','+str(self.edad)\n",
    "    def __add__(self,other): #nos dice como se suman dos objetos\n",
    "        nom = self.nombre + other.nombre\n",
    "        eda = self.edad + other.edad\n",
    "        alt = self.altura + other.altura\n",
    "        return Persona(nom,eda,alt)\n",
    "    def __len__(self):\n",
    "        return self.altura"
   ]
  },
  {
   "cell_type": "code",
   "execution_count": 44,
   "metadata": {},
   "outputs": [
    {
     "name": "stdout",
     "output_type": "stream",
     "text": [
      "xy,75\n"
     ]
    }
   ],
   "source": [
    "a = Persona('x',40,170)\n",
    "b = Persona('y',35,180)\n",
    "print(a+b)"
   ]
  },
  {
   "cell_type": "markdown",
   "metadata": {},
   "source": [
    "## EJERCICIO 6"
   ]
  },
  {
   "cell_type": "code",
   "execution_count": 58,
   "metadata": {},
   "outputs": [],
   "source": [
    "class Canasta():\n",
    "    def __init__(self,cerveza,ocio,ceviche):\n",
    "        self.cerveza  = cerveza\n",
    "        self.ocio     = ocio\n",
    "        self.ceviche  = ceviche\n",
    "        self.utilidad = (cerveza**0.3)*(ocio**0.6)*(ceviche**0.1)\n",
    "    \n",
    "    def __lt__(self,other):\n",
    "        if self.utilidad < other.utilidad:\n",
    "            return True\n",
    "        else:\n",
    "            return False\n",
    "    def __eq__(self,other):\n",
    "        if self.utilidad == other.utilidad:\n",
    "            return True\n",
    "        else:\n",
    "            return False\n",
    "\n",
    "    "
   ]
  },
  {
   "cell_type": "code",
   "execution_count": 64,
   "metadata": {},
   "outputs": [],
   "source": [
    "A = Canasta(3,4,7)\n",
    "B = Canasta(3.4,4,7)"
   ]
  },
  {
   "cell_type": "code",
   "execution_count": 65,
   "metadata": {},
   "outputs": [
    {
     "data": {
      "text/plain": [
       "(3.880450744605503, 4.028927699659074)"
      ]
     },
     "execution_count": 65,
     "metadata": {},
     "output_type": "execute_result"
    }
   ],
   "source": [
    "A.utilidad, B.utilidad"
   ]
  },
  {
   "cell_type": "code",
   "execution_count": 68,
   "metadata": {},
   "outputs": [
    {
     "data": {
      "text/plain": [
       "False"
      ]
     },
     "execution_count": 68,
     "metadata": {},
     "output_type": "execute_result"
    }
   ],
   "source": [
    "B<A"
   ]
  },
  {
   "cell_type": "markdown",
   "metadata": {},
   "source": [
    "## EJERCICIO 7"
   ]
  },
  {
   "cell_type": "code",
   "execution_count": 105,
   "metadata": {},
   "outputs": [],
   "source": [
    "class Mensaje():\n",
    "    def __init__(self,string,desp):\n",
    "        self.string = string\n",
    "        self.desp   = desp\n",
    "    def __str__(self):\n",
    "        return str(self.string)\n",
    "    def encriptar(self):\n",
    "        self.string = ''.join(chr(y) for y in [ord(x)+self.desp for x in list(self.string)])\n",
    "    def desencriptar(self):\n",
    "        self.string = ''.join(chr(y) for y in [ord(x)-self.desp for x in list(self.string)])\n",
    "        \n"
   ]
  },
  {
   "cell_type": "code",
   "execution_count": 106,
   "metadata": {},
   "outputs": [],
   "source": [
    "Q = Mensaje('hola',3)"
   ]
  },
  {
   "cell_type": "code",
   "execution_count": 107,
   "metadata": {},
   "outputs": [
    {
     "name": "stdout",
     "output_type": "stream",
     "text": [
      "hola\n"
     ]
    }
   ],
   "source": [
    "print(Q)"
   ]
  },
  {
   "cell_type": "code",
   "execution_count": 108,
   "metadata": {},
   "outputs": [
    {
     "name": "stdout",
     "output_type": "stream",
     "text": [
      "krod\n"
     ]
    }
   ],
   "source": [
    "Q.encriptar()\n",
    "print(Q)"
   ]
  },
  {
   "cell_type": "code",
   "execution_count": 109,
   "metadata": {},
   "outputs": [
    {
     "name": "stdout",
     "output_type": "stream",
     "text": [
      "hola\n"
     ]
    }
   ],
   "source": [
    "Q.desencriptar()\n",
    "print(Q)"
   ]
  }
 ],
 "metadata": {
  "kernelspec": {
   "display_name": "Python 3",
   "language": "python",
   "name": "python3"
  },
  "language_info": {
   "codemirror_mode": {
    "name": "ipython",
    "version": 3
   },
   "file_extension": ".py",
   "mimetype": "text/x-python",
   "name": "python",
   "nbconvert_exporter": "python",
   "pygments_lexer": "ipython3",
   "version": "3.7.4"
  }
 },
 "nbformat": 4,
 "nbformat_minor": 2
}
